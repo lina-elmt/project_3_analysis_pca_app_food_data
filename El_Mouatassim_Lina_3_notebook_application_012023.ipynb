{
 "cells": [
  {
   "cell_type": "markdown",
   "id": "366b86ab",
   "metadata": {},
   "source": [
    "## Dans ce notebook je vais créer une version de test de l'application QUIZZ'in en 3 niveaux de difficultés grâce aux données nettoyées et partitionnées de l'Open Food Facts"
   ]
  },
  {
   "cell_type": "markdown",
   "id": "22361b79",
   "metadata": {},
   "source": [
    "### Préparation de l'environnement"
   ]
  },
  {
   "cell_type": "code",
   "execution_count": 1,
   "id": "b010a713",
   "metadata": {},
   "outputs": [],
   "source": [
    "import pandas as pd\n",
    "import numpy as np\n",
    "from ipywidgets import interact, fixed\n",
    "from IPython.display import display, Image\n",
    "import random"
   ]
  },
  {
   "cell_type": "code",
   "execution_count": 2,
   "id": "2b6dd007",
   "metadata": {},
   "outputs": [],
   "source": [
    "df = pd.read_csv('data_final.csv')\n",
    "variables = list(df.iloc[:,6:16].columns)"
   ]
  },
  {
   "cell_type": "markdown",
   "id": "861a5e10",
   "metadata": {},
   "source": [
    "### création des fonctions du quizz en 3 niveaux de difficulté"
   ]
  },
  {
   "cell_type": "markdown",
   "id": "6a9b0126",
   "metadata": {},
   "source": [
    "#### facile : cluster différent"
   ]
  },
  {
   "cell_type": "code",
   "execution_count": 3,
   "id": "4605a85d",
   "metadata": {},
   "outputs": [],
   "source": [
    "def quiz_facile(df, variable):\n",
    "\n",
    "  cluster = random.randint(0,2)\n",
    "  individual1 = df.query(\"cluster_proj == @cluster\").sample(n=1).squeeze(axis=0)\n",
    "  individual2 = df.query(\"cluster_proj != @cluster\").sample(n=1).squeeze(axis=0)\n",
    "\n",
    "  print(f\"Quel produit a la plus grande valeur de la variable '{variable}' ?\")\n",
    "  print(f\"Produit 1 : {individual1['product_name']}\")\n",
    "  display(Image(url = individual1['image_url']))\n",
    "  print(f\"Produit 2 : {individual2['product_name']}\")\n",
    "  display(Image(url = individual2['image_url']))\n",
    "  answer = input(\"Quel produit a la plus grande valeur ? Entrez 1 ou 2 puis appuyez sur entrée \")\n",
    "\n",
    "  if answer == \"1\":\n",
    "    if individual1[variable] > individual2[variable]:\n",
    "      print(\"Bonne réponse ! \\n\"+str({individual1['product_name']})+\": \"+str({individual1[variable]})+\"\\n\"+str({individual2['product_name']})+\" : \"+str({individual2[variable]}))\n",
    "    elif individual1[variable] == individual2[variable]:\n",
    "      print(\"Ils sont égaux ! \\n\"+str({individual1['product_name']})+\": \"+str({individual1[variable]})+\"\\n\"+str({individual2['product_name']})+\" : \"+str({individual2[variable]}))\n",
    "    else:\n",
    "      print(\"Mauvaise réponse. \\n\"+str({individual1['product_name']})+\": \"+str({individual1[variable]})+\"\\n\"+str({individual2['product_name']})+\" : \"+str({individual2[variable]}))\n",
    "  elif answer == \"2\":\n",
    "    if individual2[variable] > individual1[variable]:\n",
    "      print(\"Bonne réponse ! \\n\"+str({individual1['product_name']})+\": \"+str({individual1[variable]})+\"\\n\"+str({individual2['product_name']})+\" : \"+str({individual2[variable]}))\n",
    "    elif individual1[variable] == individual2[variable]:\n",
    "      print(\"Ils sont égaux ! \\n\"+str({individual1['product_name']})+\": \"+str({individual1[variable]})+\"\\n\"+str({individual2['product_name']})+\" : \"+str({individual2[variable]}))   \n",
    "    else:\n",
    "      print(\"Mauvaise réponse. \\n\"+str({individual1['product_name']})+\": \"+str({individual1[variable]})+\"\\n\"+str({individual2['product_name']})+\" : \"+str({individual2[variable]}))\n",
    "  else:\n",
    "    print(\"Entrée invalide.\")\n"
   ]
  },
  {
   "cell_type": "markdown",
   "id": "93c8d2c8",
   "metadata": {},
   "source": [
    "#### moyen : sélection aléatoire"
   ]
  },
  {
   "cell_type": "code",
   "execution_count": 4,
   "id": "66002544",
   "metadata": {},
   "outputs": [],
   "source": [
    "def quiz_moyen(df, variable):\n",
    "  \n",
    "  index1 = random.randint(0, len(df)-1)\n",
    "  index2 = random.randint(0, len(df)-1)\n",
    "  \n",
    "  individual1 = df.iloc[index1]\n",
    "  individual2 = df.iloc[index2]\n",
    "\n",
    "  print(f\"Quel produit a la plus grande valeur de la variable '{variable}' ?\")\n",
    "  print(f\"Produit 1 : {individual1['product_name']}\")\n",
    "  display(Image(url = individual1['image_url']))\n",
    "  print(f\"Produit 2 : {individual2['product_name']}\")\n",
    "  display(Image(url = individual2['image_url']))\n",
    "  answer = input(\"Quel produit a la plus grande valeur ? Entrez 1 ou 2 puis appuyez sur entrée \")\n",
    "\n",
    "  if answer == \"1\":\n",
    "    if individual1[variable] > individual2[variable]:\n",
    "      print(\"Bonne réponse ! \\n\"+str({individual1['product_name']})+\": \"+str({individual1[variable]})+\"\\n\"+str({individual2['product_name']})+\" : \"+str({individual2[variable]}))\n",
    "    elif individual1[variable] == individual2[variable]:\n",
    "      print(\"Ils sont égaux ! \\n\"+str({individual1['product_name']})+\": \"+str({individual1[variable]})+\"\\n\"+str({individual2['product_name']})+\" : \"+str({individual2[variable]}))\n",
    "    else:\n",
    "      print(\"Mauvaise réponse. \\n\"+str({individual1['product_name']})+\": \"+str({individual1[variable]})+\"\\n\"+str({individual2['product_name']})+\" : \"+str({individual2[variable]}))\n",
    "  elif answer == \"2\":\n",
    "    if individual2[variable] > individual1[variable]:\n",
    "      print(\"Bonne réponse ! \\n\"+str({individual1['product_name']})+\": \"+str({individual1[variable]})+\"\\n\"+str({individual2['product_name']})+\" : \"+str({individual2[variable]}))\n",
    "    elif individual1[variable] == individual2[variable]:\n",
    "      print(\"Ils sont égaux ! \\n\"+str({individual1['product_name']})+\": \"+str({individual1[variable]})+\"\\n\"+str({individual2['product_name']})+\" : \"+str({individual2[variable]}))   \n",
    "    else:\n",
    "      print(\"Mauvaise réponse. \\n\"+str({individual1['product_name']})+\": \"+str({individual1[variable]})+\"\\n\"+str({individual2['product_name']})+\" : \"+str({individual2[variable]}))\n",
    "  else:\n",
    "    print(\"Entrée invalide.\")\n"
   ]
  },
  {
   "cell_type": "markdown",
   "id": "c3c97397",
   "metadata": {},
   "source": [
    "#### dificile : cluster identique"
   ]
  },
  {
   "cell_type": "code",
   "execution_count": 5,
   "id": "4b91c480",
   "metadata": {},
   "outputs": [],
   "source": [
    "def quiz_dificile(df, variable):\n",
    "\n",
    "  cluster = random.randint(0,2)\n",
    "  sample = df.query(\"cluster_proj == @cluster\").sample(n=2)\n",
    "    \n",
    "  individual1 = sample.iloc[0]\n",
    "  individual2 = sample.iloc[1]\n",
    "\n",
    "  print(f\"Quel produit a la plus grande valeur de la variable '{variable}' ?\")\n",
    "  print(f\"Produit 1 : {individual1['product_name']}\")\n",
    "  display(Image(url = individual1['image_url']))\n",
    "  print(f\"Produit 2 : {individual2['product_name']}\")\n",
    "  display(Image(url = individual2['image_url']))\n",
    "  answer = input(\"Quel produit a la plus grande valeur ? Entrez 1 ou 2 puis appuyez sur entrée \")\n",
    "\n",
    "  if answer == \"1\":\n",
    "    if individual1[variable] > individual2[variable]:\n",
    "      print(\"Bonne réponse ! \\n\"+str({individual1['product_name']})+\": \"+str({individual1[variable]})+\"\\n\"+str({individual2['product_name']})+\" : \"+str({individual2[variable]}))\n",
    "    elif individual1[variable] == individual2[variable]:\n",
    "      print(\"Ils sont égaux ! \\n\"+str({individual1['product_name']})+\": \"+str({individual1[variable]})+\"\\n\"+str({individual2['product_name']})+\" : \"+str({individual2[variable]}))\n",
    "    else:\n",
    "      print(\"Mauvaise réponse. \\n\"+str({individual1['product_name']})+\": \"+str({individual1[variable]})+\"\\n\"+str({individual2['product_name']})+\" : \"+str({individual2[variable]}))\n",
    "  elif answer == \"2\":\n",
    "    if individual2[variable] > individual1[variable]:\n",
    "      print(\"Bonne réponse ! \\n\"+str({individual1['product_name']})+\": \"+str({individual1[variable]})+\"\\n\"+str({individual2['product_name']})+\" : \"+str({individual2[variable]}))\n",
    "    elif individual1[variable] == individual2[variable]:\n",
    "      print(\"Ils sont égaux ! \\n\"+str({individual1['product_name']})+\": \"+str({individual1[variable]})+\"\\n\"+str({individual2['product_name']})+\" : \"+str({individual2[variable]}))   \n",
    "    else:\n",
    "      print(\"Mauvaise réponse. \\n\"+str({individual1['product_name']})+\": \"+str({individual1[variable]})+\"\\n\"+str({individual2['product_name']})+\" : \"+str({individual2[variable]}))\n",
    "  else:\n",
    "    print(\"Entrée invalide.\")"
   ]
  },
  {
   "cell_type": "markdown",
   "id": "579baf89",
   "metadata": {},
   "source": [
    "### Visualisation du quiz grace à un widget"
   ]
  },
  {
   "cell_type": "code",
   "execution_count": 13,
   "id": "4d88914b",
   "metadata": {},
   "outputs": [
    {
     "data": {
      "application/vnd.jupyter.widget-view+json": {
       "model_id": "e83a79f7f1e247c180e6d2e8c88e84b1",
       "version_major": 2,
       "version_minor": 0
      },
      "text/plain": [
       "interactive(children=(Text(value='fat_100g', description='variable'), Output()), _dom_classes=('widget-interac…"
      ]
     },
     "metadata": {},
     "output_type": "display_data"
    },
    {
     "name": "stdout",
     "output_type": "stream",
     "text": [
      "Quel produit a la plus grande valeur ? Entrez 1 ou 2 puis appuyez sur entrée 1\n"
     ]
    },
    {
     "data": {
      "text/plain": [
       "<function __main__.quiz_facile(df, variable)>"
      ]
     },
     "execution_count": 13,
     "metadata": {},
     "output_type": "execute_result"
    }
   ],
   "source": [
    "interact(quiz_facile, df=fixed(df), variable=random.choice(variables))"
   ]
  },
  {
   "cell_type": "code",
   "execution_count": null,
   "id": "f3b79b30",
   "metadata": {},
   "outputs": [],
   "source": []
  }
 ],
 "metadata": {
  "kernelspec": {
   "display_name": "Python 3 (ipykernel)",
   "language": "python",
   "name": "python3"
  },
  "language_info": {
   "codemirror_mode": {
    "name": "ipython",
    "version": 3
   },
   "file_extension": ".py",
   "mimetype": "text/x-python",
   "name": "python",
   "nbconvert_exporter": "python",
   "pygments_lexer": "ipython3",
   "version": "3.9.13"
  }
 },
 "nbformat": 4,
 "nbformat_minor": 5
}
